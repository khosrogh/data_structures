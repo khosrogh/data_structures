{
 "cells": [
  {
   "cell_type": "markdown",
   "id": "66b24fb2-3378-4dd9-a7d3-8d8faa14617a",
   "metadata": {},
   "source": [
    "# Trees and Graphs"
   ]
  },
  {
   "cell_type": "markdown",
   "id": "609d8347-5f97-4ce9-a3df-3291f96ad577",
   "metadata": {},
   "source": [
    "## Correcting bugs in a tree implementation"
   ]
  },
  {
   "cell_type": "markdown",
   "id": "4cbd9170-3149-4b2c-8f27-6c5345f42d65",
   "metadata": {},
   "source": [
    "Correct the mistakes in the init() method.\r\n",
    "\n",
    "\n",
    "Correct the mistake in the creation of the root_node."
   ]
  },
  {
   "cell_type": "markdown",
   "id": "b5ec2e59-ee80-42d8-bdfe-28e0b2e397ce",
   "metadata": {},
   "source": [
    "<img src=\"https://assets.datacamp.com/production/repositories/6071/datasets/d1be5de2149a3bb07524f325571ad95c129c5ed7/tree_implementation.png\">"
   ]
  },
  {
   "cell_type": "code",
   "execution_count": 1,
   "id": "48804f13-6a64-4af4-9c81-22c77682e9bc",
   "metadata": {},
   "outputs": [],
   "source": [
    "class TreeNode:\n",
    "  \n",
    "  def __init__(self, data, left=None, right=None):\n",
    "    # Correct the mistakes\n",
    "    self.data = data\n",
    "    self.left_child = left\n",
    "    self.right_child = right\n",
    "\n",
    "node1 = TreeNode(\"B\")\n",
    "node2 = TreeNode(\"C\")\n",
    "# Correct the mistake\n",
    "root_node = TreeNode(\"A\", node1, node2)"
   ]
  },
  {
   "cell_type": "markdown",
   "id": "2d35d85c-ac0d-41ce-a9db-6f6c40e61978",
   "metadata": {},
   "source": [
    "## Building a weighted graph\n",
    "\r\n",
    "In the last video, you learned how to implement a graph in Python."
   ]
  },
  {
   "cell_type": "code",
   "execution_count": 2,
   "id": "c65f58ee-e2fa-42e3-a8d2-f00732873772",
   "metadata": {},
   "outputs": [],
   "source": [
    "class Graph:\n",
    "  def __init__(self):\n",
    "    self.vertices = {}\n",
    "\n",
    "  def add_vertex(self, vertex):\n",
    "    self.vertices[vertex] = []\n",
    "\n",
    "  def add_edge(self, source, target):\n",
    "    self.vertices[source].append(target)"
   ]
  },
  {
   "cell_type": "markdown",
   "id": "566f3351-63ca-4b7d-90a8-0255edf94c3d",
   "metadata": {},
   "source": [
    "This exercise has two steps. In the first one, you will modify this code so that it can be used to create a weighted graph. To do this, you can use a hash table to represent the adjacent vertices with their weights. In the second step, you will build the following weighted graph:"
   ]
  },
  {
   "cell_type": "markdown",
   "id": "79b45e75-97bd-4888-bc1c-379dc9f07e9b",
   "metadata": {},
   "source": [
    "<img  src=\"https://assets.datacamp.com/production/repositories/6071/datasets/736f1ccc7c3e7dd0142fe79bf46a375edba6d0c1/france_weighted_graph.png\" >"
   ]
  },
  {
   "cell_type": "markdown",
   "id": "2dfefc23-9ca5-42c7-8189-96a38ddf259f",
   "metadata": {},
   "source": [
    "Set the data for the vertex.\r\n",
    "\n",
    "Set the weight."
   ]
  },
  {
   "cell_type": "code",
   "execution_count": 6,
   "id": "1247b563-5609-47aa-9099-84b8f83bfc38",
   "metadata": {},
   "outputs": [],
   "source": [
    "class WeightedGraph:\n",
    "  def __init__(self):\n",
    "    self.vertices = {}\n",
    "  \n",
    "  def add_vertex(self, vertex):\n",
    "    # Set the data for the vertex\n",
    "    self.vertices[vertex] = []\n",
    "    \n",
    "  def add_edge(self, source, target, weight):\n",
    "    # Set the weight\n",
    "    self.vertices[source].append([target, weight])"
   ]
  },
  {
   "cell_type": "markdown",
   "id": "79d11c60-0be4-462c-9191-9991654b395f",
   "metadata": {},
   "source": [
    "Create the vertices for the cities.\n",
    "\n",
    "\n",
    "Create the adjacent vertices for the cities."
   ]
  },
  {
   "cell_type": "code",
   "execution_count": 7,
   "id": "b7e595a8-4f08-4e2c-a32e-6543d01051c2",
   "metadata": {},
   "outputs": [],
   "source": [
    "my_graph = WeightedGraph()\n",
    "\n",
    "# Create the vertices\n",
    "my_graph.add_vertex('Paris')\n",
    "my_graph.add_vertex('Toulouse')\n",
    "my_graph.add_vertex('Biarritz')\n",
    "\n",
    "# Create the edges\n",
    "my_graph.add_edge('Paris', 'Toulouse', 678)\n",
    "my_graph.add_edge('Toulouse', 'Biarritz', 312)\n",
    "my_graph.add_edge('Biarritz', 'Paris', 783)"
   ]
  },
  {
   "cell_type": "code",
   "execution_count": null,
   "id": "6fd7e0c6-fbe5-43d6-b68e-2f8e0f30f7af",
   "metadata": {},
   "outputs": [],
   "source": []
  }
 ],
 "metadata": {
  "kernelspec": {
   "display_name": "Python 3 (ipykernel)",
   "language": "python",
   "name": "python3"
  },
  "language_info": {
   "codemirror_mode": {
    "name": "ipython",
    "version": 3
   },
   "file_extension": ".py",
   "mimetype": "text/x-python",
   "name": "python",
   "nbconvert_exporter": "python",
   "pygments_lexer": "ipython3",
   "version": "3.12.1"
  }
 },
 "nbformat": 4,
 "nbformat_minor": 5
}
