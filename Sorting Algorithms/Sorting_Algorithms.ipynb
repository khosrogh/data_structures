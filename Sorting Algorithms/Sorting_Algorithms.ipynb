{
 "cells": [
  {
   "cell_type": "markdown",
   "id": "e6d656cb-e6c1-4473-b4ba-d8cf05f95623",
   "metadata": {},
   "source": [
    "# Bubble Sort"
   ]
  },
  {
   "cell_type": "markdown",
   "id": "1da34914-0f7e-404c-821f-74fd7ec68c00",
   "metadata": {},
   "source": [
    "### Correcting a bug in the bubble sort algorithm\n",
    "\n",
    "\r\n",
    "You have been given a program that sorts a list of numbers using the bubble sort algorithm. While testing it, you realize that the code is not correct. Could you correct the algorithm so that it works correctly?"
   ]
  },
  {
   "cell_type": "markdown",
   "id": "00dd4f70-2d65-44a8-9223-a14fb6f36a65",
   "metadata": {},
   "source": [
    "Correct the mistake in the assignment of the is_sorted variable.\r\n",
    "\n",
    "\n",
    "Correct the mistake when checking the adjacent values.\n",
    "\n",
    "\r\n",
    "Correct the mistake when updating the value for the list_length variable."
   ]
  },
  {
   "cell_type": "code",
   "execution_count": 1,
   "id": "ea833903-2518-4b5f-ad87-2deb54c3114e",
   "metadata": {},
   "outputs": [
    {
     "name": "stdout",
     "output_type": "stream",
     "text": [
      "[1, 2, 4, 5, 7, 9]\n"
     ]
    }
   ],
   "source": [
    "def bubble_sort(my_list):\n",
    "  list_length = len(my_list)\n",
    "  # Correct the mistake\n",
    "  is_sorted = False\n",
    "  while not is_sorted:\n",
    "    is_sorted = True\n",
    "    for i in range(list_length-1):\n",
    "      # Correct the mistake\n",
    "      if my_list[i] > my_list[i+1]:\n",
    "        my_list[i] , my_list[i+1] = my_list[i+1] , my_list[i]\n",
    "        is_sorted = False\n",
    "    # Correct the mistake\n",
    "    list_length -= 1\n",
    "  return my_list\n",
    "\n",
    "print(bubble_sort([5, 7, 9, 1, 4, 2]))"
   ]
  },
  {
   "cell_type": "markdown",
   "id": "5803068c-f3f2-41b3-aa8a-558ae16a02e7",
   "metadata": {},
   "source": [
    "You fixed the problem so that the numbers are sorted. Remember that it is an algorithm of O(n^2)."
   ]
  },
  {
   "cell_type": "markdown",
   "id": "ca53b271-10c2-4fd8-b084-aa773a11dae4",
   "metadata": {},
   "source": [
    "# Coding Selection Sort\r\n"
   ]
  },
  {
   "cell_type": "markdown",
   "id": "03752889-d866-49a8-a527-7f05c33f3ca0",
   "metadata": {},
   "source": [
    "In the last video, you studied the selection sort algorithm.\r\n",
    "\r\n",
    "In this exercise, you will need to implement it by completing the selection_sort() function."
   ]
  },
  {
   "cell_type": "markdown",
   "id": "b405dac4-70ce-4e6d-9e56-f8688f8cae25",
   "metadata": {},
   "source": [
    "Set lowest to the element of the list located at index i.\r\n",
    "\n",
    "\n",
    "Iterate again over the list starting on the next position of the i variable.\n",
    "\n",
    "\r\n",
    "Compare whether the element of the list located at index j is smaller than lowest."
   ]
  },
  {
   "cell_type": "code",
   "execution_count": 2,
   "id": "419ee33b-e539-4bf5-be1b-6b884432d0b6",
   "metadata": {},
   "outputs": [
    {
     "name": "stdout",
     "output_type": "stream",
     "text": [
      "[2, 4, 6, 7, 8, 9]\n"
     ]
    }
   ],
   "source": [
    "def selection_sort(my_list):\n",
    "  list_length = len(my_list)\n",
    "  for i in range(list_length - 1):\n",
    "    # Set lowest to the element of the list located at index i\n",
    "    lowest = my_list[i]\n",
    "    index = i\n",
    "    # Iterate again over the list starting on the next position of the i variable\n",
    "    for j in range(i+1, list_length):\n",
    "      # Compare whether the element of the list located at index j is smaller than lowest\n",
    "      if my_list[j] < lowest:\n",
    "        index = j\n",
    "        lowest = my_list[j]\n",
    "    my_list[i] , my_list[index] = my_list[index] , my_list[i]\n",
    "  return my_list\n",
    "\n",
    "my_list = [6, 2, 9, 7, 4, 8] \n",
    "selection_sort(my_list)\n",
    "print(my_list)"
   ]
  },
  {
   "cell_type": "markdown",
   "id": "16a5b658-bd69-4b27-868c-8bf1d7f86ce2",
   "metadata": {},
   "source": [
    "## Sorting cards using insertion sort"
   ]
  },
  {
   "cell_type": "markdown",
   "id": "60c22df9-d574-4176-aa9a-55be6040a000",
   "metadata": {},
   "source": [
    "You are playing cards with a Spanish deck of cards, where each card has a number. You are given the following cards:"
   ]
  },
  {
   "cell_type": "markdown",
   "id": "e633c118-579a-41be-a8dd-e1fd0765ecbf",
   "metadata": {},
   "source": [
    "<img src=\"https://assets.datacamp.com/production/repositories/6071/datasets/e16c175e115c0b67310bdb698203f46e7d05e3c3/Spanish_cards.png\">"
   ]
  },
  {
   "cell_type": "markdown",
   "id": "f0c929c4-9a16-4177-b5fd-02419c057407",
   "metadata": {},
   "source": [
    "You like having them ordered in your hands, and you realize that insertion sort is a good way of sorting them.\r\n",
    "\r\n",
    "What sequence will you follow if you sort them in ascending order using insertion sort?"
   ]
  },
  {
   "cell_type": "markdown",
   "id": "7455b06d-f42d-4f43-800d-ef17fa4817f0",
   "metadata": {},
   "source": [
    "Order the cards using insertion sort so that they end in ascending order."
   ]
  },
  {
   "cell_type": "markdown",
   "id": "abdfa156-b24f-4bd0-8f60-66a2335a6ced",
   "metadata": {},
   "source": [
    "# Insertion Sort"
   ]
  },
  {
   "cell_type": "code",
   "execution_count": 7,
   "id": "1f8a5600-0f7d-4a84-b5a2-52a617aa17de",
   "metadata": {},
   "outputs": [
    {
     "name": "stdout",
     "output_type": "stream",
     "text": [
      "[2, 3, 4, 6, 7, 8, 9, 10]\n"
     ]
    }
   ],
   "source": [
    "def insertion_sort(my_list):\n",
    "    for i in range(1, len(my_list)):\n",
    "        number_to_order = my_list[i]\n",
    "        j = i - 1\n",
    "        while j >= 0 and number_to_order < my_list[j]:\n",
    "            my_list[j + 1] = my_list[j]\n",
    "            j -= 1\n",
    "        my_list[j + 1] = number_to_order\n",
    "    return my_list\n",
    "\n",
    "\n",
    "my_list = [6, 2, 9, 7, 4, 8, 10, 3] \n",
    "insertion_sort(my_list)\n",
    "print(my_list)"
   ]
  },
  {
   "cell_type": "markdown",
   "id": "8cecc71b-a315-4fcc-ba04-44ea987af2d6",
   "metadata": {},
   "source": [
    "# Merge Sort"
   ]
  },
  {
   "cell_type": "markdown",
   "id": "b5c94a18-2416-4eb5-bb07-3a8c0e5493d2",
   "metadata": {},
   "source": [
    "Correct the mistake when assigning the left half.\r\n",
    "\n",
    "\n",
    "Correct the mistake when assigning the right half.\n",
    "\n",
    "\r\n",
    "Correct the mistake when updating the pointer for the left half\n",
    "\n",
    ".\r\n",
    "Correct the mistake when updating the pointer for the right half."
   ]
  },
  {
   "cell_type": "code",
   "execution_count": 8,
   "id": "9e220d5c-6705-46f6-b35f-6ad9c0c9466f",
   "metadata": {},
   "outputs": [
    {
     "name": "stdout",
     "output_type": "stream",
     "text": [
      "[1, 4, 20, 22, 30, 35, 40, 50, 90]\n"
     ]
    }
   ],
   "source": [
    "def merge_sort(my_list):\n",
    "    if len(my_list) > 1: \n",
    "        mid = len(my_list)//2\n",
    "        left_half = my_list[:mid]\n",
    "        right_half = my_list[mid:]\n",
    "        \n",
    "        merge_sort(left_half)\n",
    "        merge_sort(right_half)\n",
    " \n",
    "        i = j = k = 0\n",
    " \n",
    "        while i < len(left_half) and j < len(right_half):\n",
    "            if left_half[i] < right_half[j]:\n",
    "        \t\t# Correct mistake when assigning left half\n",
    "                my_list[k] = left_half[i]                \n",
    "                i += 1\n",
    "            else:\n",
    "                # Correct mistake when assigning right half\n",
    "                my_list[k] = right_half[j]\n",
    "                j += 1\n",
    "            k += 1\n",
    "            \n",
    "        while i < len(left_half):\n",
    "            my_list[k] = left_half[i]\n",
    "            # Correct mistake when updating pointer for left half\n",
    "            i += 1\n",
    "            k += 1\n",
    " \n",
    "        while j < len(right_half):\n",
    "            my_list[k] = right_half[j]\n",
    "            # Correct mistake when updating pointer for right half\n",
    "            j += 1\n",
    "            k += 1\n",
    "\n",
    "my_list = [35,22,90,4,50,20,30,40,1]\n",
    "merge_sort(my_list)\n",
    "print(my_list)"
   ]
  },
  {
   "cell_type": "markdown",
   "id": "9d05f32b-ee14-4f1a-8d04-12c1a9b3e1e4",
   "metadata": {},
   "source": [
    "# Quick Sort"
   ]
  },
  {
   "cell_type": "markdown",
   "id": "5f452d42-d879-4226-abe8-1284037040d4",
   "metadata": {},
   "source": [
    "In this exercise, you will implement the quicksort algorithm to sort a list of numbers.\r\n",
    "\r\n",
    "In the first step, you will implement the partition() function, which returns the index of the pivot after having processed the list of numbers so that all the elements that are to the left of the pivot are less than the pivot and all the elements that are to the right of the pivot are greater than the pivot.\r\n",
    "\r\n",
    "In the second step, you will implement the quicksort() function, which will call the partition() function."
   ]
  },
  {
   "cell_type": "markdown",
   "id": "b3b7dbf0-f164-446d-b918-03bf89367bb9",
   "metadata": {},
   "source": [
    "\n",
    "Iterate until the value pointed by left_pointer is greater than pivot or left_pointer is greater than last_index.\n",
    "\n",
    "\r\n",
    "Swap the values for the elements located at the left_pointer and right_pointer."
   ]
  },
  {
   "cell_type": "code",
   "execution_count": 9,
   "id": "186f00e4-6e81-4bcf-b969-ee6f4647aa8c",
   "metadata": {},
   "outputs": [],
   "source": [
    "def partition(my_list, first_index, last_index):\n",
    "  pivot = my_list[first_index]\n",
    "  left_pointer = first_index + 1\n",
    "  right_pointer = last_index\n",
    " \n",
    "  while True:\n",
    "    # Iterate until the value pointed by left_pointer is greater than pivot or left_pointer is greater than last_index\n",
    "    while my_list[left_pointer] < pivot and left_pointer < last_index:\n",
    "      left_pointer += 1\n",
    "    \n",
    "    while my_list[right_pointer] > pivot and right_pointer >= first_index:\n",
    "      right_pointer -= 1 \n",
    "    if left_pointer >= right_pointer:\n",
    "        break\n",
    "    # Swap the values for the elements located at the left_pointer and right_pointer\n",
    "    my_list[left_pointer], my_list[right_pointer] = my_list[right_pointer], my_list[left_pointer]\n",
    "   \n",
    "  my_list[first_index], my_list[right_pointer] = my_list[right_pointer], my_list[first_index]\n",
    "  return right_pointer"
   ]
  },
  {
   "cell_type": "markdown",
   "id": "7e46d409-6334-4001-86a5-a71e2a51e15c",
   "metadata": {},
   "source": [
    "Call the partition() function with the appropriate parameters.\r\n",
    "\n",
    "\n",
    "Call quicksort() on the elements to the left of the partition."
   ]
  },
  {
   "cell_type": "code",
   "execution_count": 11,
   "id": "ac6126a5-90fb-4038-b0c1-232ead7e885f",
   "metadata": {},
   "outputs": [
    {
     "name": "stdout",
     "output_type": "stream",
     "text": [
      "[2, 3, 6, 7, 8, 9, 11, 12, 34]\n"
     ]
    }
   ],
   "source": [
    "def quicksort(my_list, first_index, last_index):\n",
    "  if first_index < last_index:\n",
    "    # Call the partition() function with the appropriate parameters\n",
    "    partition_index = partition(my_list, first_index, last_index)\n",
    "    # Call quicksort() on the elements to the left of the partition\n",
    "    quicksort(my_list, first_index, partition_index)\n",
    "    quicksort(my_list, partition_index + 1, last_index)\n",
    "    \n",
    "my_list = [6, 2, 9, 7, 12, 34, 8, 3, 11] \n",
    "quicksort(my_list, 0, len(my_list) - 1)\n",
    "print(my_list)"
   ]
  },
  {
   "cell_type": "code",
   "execution_count": null,
   "id": "26d68ac9-8074-4f2e-9cda-6a1d7abf68b3",
   "metadata": {},
   "outputs": [],
   "source": []
  }
 ],
 "metadata": {
  "kernelspec": {
   "display_name": "Python 3 (ipykernel)",
   "language": "python",
   "name": "python3"
  },
  "language_info": {
   "codemirror_mode": {
    "name": "ipython",
    "version": 3
   },
   "file_extension": ".py",
   "mimetype": "text/x-python",
   "name": "python",
   "nbconvert_exporter": "python",
   "pygments_lexer": "ipython3",
   "version": "3.12.1"
  }
 },
 "nbformat": 4,
 "nbformat_minor": 5
}
