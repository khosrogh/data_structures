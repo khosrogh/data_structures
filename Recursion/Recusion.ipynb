{
 "cells": [
  {
   "cell_type": "markdown",
   "id": "0cfc416f-beb5-4383-8a56-f4fdc3872b72",
   "metadata": {},
   "source": [
    "# Recursion"
   ]
  },
  {
   "cell_type": "markdown",
   "id": "baa65aa7-eac9-4ad8-b916-c404e45b7e3e",
   "metadata": {},
   "source": [
    "## Fibonacci sequence\n",
    "\n",
    "\r\n",
    "In this exercise, you will implement the Fibonacci sequence, which is ubiquitous in nature. The sequence looks like this: \"0, 1, 1, 2, 3, 5, 8…\". You will create a recursive implementation of an algorithm that generates the sequence.\r\n",
    "\r\n",
    "The first numbers are 0 and 1, and the rest are the sum of the two preceding numbers.\r\n",
    "\r\n",
    "We can define this sequence recursively as: \r\n",
    ", with \r\n",
    " and \r\n",
    ", being \r\n",
    " the \r\n",
    " position in the sequence.\r\n",
    "\r\n",
    "In the first step, you will code Fibonacci using recursion. In the second step, you will improve it by using dynamic programming, saving the solutions of the subproblems in the cache variable."
   ]
  },
  {
   "cell_type": "markdown",
   "id": "c15b9f70-af17-466c-a391-a5a76a9fa7f3",
   "metadata": {},
   "source": [
    "Define the base case.\n",
    "\n",
    "\n",
    "Call the fibonacci() function recursively."
   ]
  },
  {
   "cell_type": "code",
   "execution_count": 1,
   "id": "3df32430-20a0-4556-89a4-bd0672605fe2",
   "metadata": {},
   "outputs": [
    {
     "name": "stdout",
     "output_type": "stream",
     "text": [
      "8\n"
     ]
    }
   ],
   "source": [
    "def fibonacci(n):\n",
    "  # Define the base case\n",
    "  if n <= 1:\n",
    "    return n\n",
    "  else:\n",
    "    # Call recursively to fibonacci\n",
    "    return fibonacci(n-1) + fibonacci(n-2)\n",
    "    \n",
    "print(fibonacci(6))"
   ]
  },
  {
   "cell_type": "markdown",
   "id": "2cc0947c-e551-4ffa-9b53-a168df4e1a9e",
   "metadata": {},
   "source": [
    "Check if the value exists in cache.\r\n",
    "\n",
    "\n",
    "Save the result in cache to avoid recalculating it later."
   ]
  },
  {
   "cell_type": "code",
   "execution_count": 2,
   "id": "37248d47-b4f1-49b3-ac83-77520e885e27",
   "metadata": {},
   "outputs": [
    {
     "name": "stdout",
     "output_type": "stream",
     "text": [
      "8\n"
     ]
    }
   ],
   "source": [
    "cache = [None]*(100)\n",
    "\n",
    "def fibonacci(n): \n",
    "    if n <= 1:\n",
    "        return n\n",
    "    \n",
    "    # Check if the value exists\n",
    "    if not cache[n]:\n",
    "        # Save the result in cache\n",
    "        cache[n] = fibonacci(n-1) + fibonacci(n-2)\n",
    "    \n",
    "    return cache[n]\n",
    "    \n",
    "\n",
    "print(fibonacci(6))"
   ]
  },
  {
   "cell_type": "markdown",
   "id": "5a260fdd-0714-499c-bdac-a65d0e080be0",
   "metadata": {},
   "source": [
    "You figured it out! You can see that dynamic programming can be very useful because the solutions of the subproblems are saved, avoiding recalculating them if needed later!"
   ]
  },
  {
   "cell_type": "markdown",
   "id": "436d1013-9ebd-43b7-90e3-9ac552b146d7",
   "metadata": {},
   "source": [
    "## Towers of Hanoi\n",
    "\n",
    "\n",
    "In this exercise, you will implement the Towers of Hanoi puzzle with a recursive algorithm. The aim of this game is to transfer all the disks from one of the three rods to another, following these rules:\n",
    "\n",
    "You can only move one disk at a time.\n",
    "You can only take the upper disk from one of the stacks and place it on top of another stack.\n",
    "You cannot put a larger disk on top of a smaller one."
   ]
  },
  {
   "cell_type": "markdown",
   "id": "1322baf2-b36d-4d30-8a97-b6e21d71eae9",
   "metadata": {},
   "source": [
    "<img src=\"https://assets.datacamp.com/production/repositories/6071/datasets/eb5cfb055e715d45db699d8ebf508888781deaf8/towers_of_Hanoi.png\">"
   ]
  },
  {
   "cell_type": "markdown",
   "id": "8709d69d-9314-4665-8790-108bfa71a9cb",
   "metadata": {},
   "source": [
    "The algorithm shown is an implementation of this game with four disks and three rods called 'A', 'B' and 'C'. The code contains two mistakes. In fact, if you execute it, it crashes the console because it exceeds the maximum recursion depth. Can you find the bugs and fix them?"
   ]
  },
  {
   "cell_type": "markdown",
   "id": "41c4815a-35f1-4210-b80e-4fe0e82db1ee",
   "metadata": {},
   "source": [
    "Correct the base case.\r\n",
    "\n",
    "\n",
    "Correct the calls to the hanoi() function."
   ]
  },
  {
   "cell_type": "code",
   "execution_count": 4,
   "id": "aec3f155-ff02-49fb-8d71-1900734336ff",
   "metadata": {},
   "outputs": [],
   "source": [
    "def hanoi(num_disks, from_rod, to_rod, aux_rod):\n",
    "  # Correct the base case\n",
    "  if num_disks == 1:\n",
    "    # Correct the calls to the hanoi function\n",
    "    hanoi(num_disks - 1, from_rod, aux_rod, to_rod)\n",
    "    print(\"Moving disk\", num_disks, \"from rod\", from_rod,\"to rod\",to_rod)\n",
    "    hanoi(num_disks - 1, aux_rod, to_rod, from_rod)   \n",
    "\n",
    "num_disks = 4\n",
    "source_rod = 'A'\n",
    "auxiliar_rod = 'B'\n",
    "target_rod = 'C'\n",
    "\n",
    "hanoi(num_disks, source_rod, target_rod, auxiliar_rod)"
   ]
  },
  {
   "cell_type": "code",
   "execution_count": null,
   "id": "c9275136-a0d2-455e-aaf6-f053e45f3bcf",
   "metadata": {},
   "outputs": [],
   "source": []
  }
 ],
 "metadata": {
  "kernelspec": {
   "display_name": "Python 3 (ipykernel)",
   "language": "python",
   "name": "python3"
  },
  "language_info": {
   "codemirror_mode": {
    "name": "ipython",
    "version": 3
   },
   "file_extension": ".py",
   "mimetype": "text/x-python",
   "name": "python",
   "nbconvert_exporter": "python",
   "pygments_lexer": "ipython3",
   "version": "3.12.1"
  }
 },
 "nbformat": 4,
 "nbformat_minor": 5
}
