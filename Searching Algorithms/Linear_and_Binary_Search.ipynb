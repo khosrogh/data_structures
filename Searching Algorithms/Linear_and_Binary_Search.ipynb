{
 "cells": [
  {
   "cell_type": "markdown",
   "id": "dd81e1ba-1b30-41be-907b-9fc736cbc0e2",
   "metadata": {},
   "source": [
    "## Implementing binary search"
   ]
  },
  {
   "cell_type": "markdown",
   "id": "4025ea1b-3ca9-461e-adae-7014078e2e51",
   "metadata": {},
   "source": [
    "In this video, you learned how to implement linear search and binary search and saw the differences between them.\r\n",
    "\r\n",
    "In this exercise, you need to implement the binary_search() function. Can you do it?"
   ]
  },
  {
   "cell_type": "markdown",
   "id": "1fab1063-3e0a-454d-9456-85d707a51dcc",
   "metadata": {},
   "source": [
    "Check whether the search value equals the value in the middle.\r\n",
    "\n",
    "\n",
    "Check whether the search value is smaller than the value in the middle\n",
    "\n",
    "\r\n",
    "Set last to the value of middle minus one."
   ]
  },
  {
   "cell_type": "code",
   "execution_count": 1,
   "id": "480c9c64-7ffb-49ce-b2bf-5dedd2927bd3",
   "metadata": {},
   "outputs": [
    {
     "name": "stdout",
     "output_type": "stream",
     "text": [
      "True\n"
     ]
    }
   ],
   "source": [
    "def binary_search(ordered_list, search_value):\n",
    "  first = 0\n",
    "  last = len(ordered_list) - 1\n",
    "  \n",
    "  while first <= last:\n",
    "    middle = (first + last)//2\n",
    "    # Check whether the search value equals the value in the middle\n",
    "    if search_value == ordered_list[middle]:\n",
    "      return True\n",
    "    # Check whether the search value is smaller than the value in the middle\n",
    "    elif search_value < ordered_list[middle]:\n",
    "      # Set last to the value of middle minus one\n",
    "      last = middle - 1\n",
    "    else:\n",
    "      first = middle + 1\n",
    "  return False\n",
    "  \n",
    "print(binary_search([1,5,8,9,15,20,70,72], 5))"
   ]
  },
  {
   "cell_type": "markdown",
   "id": "6de383d1-ea98-4069-b24c-dc9e04081d3e",
   "metadata": {},
   "source": [
    "## Binary search using recursion"
   ]
  },
  {
   "cell_type": "markdown",
   "id": "b4c62ed7-5e38-4477-abd7-fc152c30aca8",
   "metadata": {},
   "source": [
    "In this exercise, you will implement the binary search algorithm you just learned using recursion. Recall that a recursive function refers to a function calling itself."
   ]
  },
  {
   "cell_type": "markdown",
   "id": "354533fa-b7ff-411a-9a8c-14886a979cce",
   "metadata": {},
   "source": [
    "Define the base case.\r\n",
    "\n",
    "\n",
    "Check whether the search value equals the value in the middle.\n",
    "\n",
    "\r\n",
    "Call the binary_search_recursive() function recursively on the left half of the list\n",
    "\n",
    ".\r\n",
    "Call the binary_search_recursive() function recursively on the right half of the list."
   ]
  },
  {
   "cell_type": "code",
   "execution_count": 2,
   "id": "4a57a113-0dad-4372-99d4-bbf7d446eeb9",
   "metadata": {},
   "outputs": [
    {
     "name": "stdout",
     "output_type": "stream",
     "text": [
      "True\n"
     ]
    }
   ],
   "source": [
    "def binary_search_recursive(ordered_list, search_value):\n",
    "  # Define the base case\n",
    "  if len(ordered_list) == 0:\n",
    "    return False\n",
    "  else:\n",
    "    middle = len(ordered_list)//2\n",
    "    # Check whether the search value equals the value in the middle\n",
    "    if search_value == ordered_list[middle]:\n",
    "        return True\n",
    "    elif search_value < ordered_list[middle]:\n",
    "        # Call recursively with the left half of the list\n",
    "        return binary_search_recursive(ordered_list[:middle], search_value)\n",
    "    else:\n",
    "        # Call recursively with the right half of the list\n",
    "        return binary_search_recursive(ordered_list[middle+1:], search_value)\n",
    "  \n",
    "print(binary_search_recursive([1,5,8,9,15,20,70,72], 5))"
   ]
  },
  {
   "cell_type": "code",
   "execution_count": null,
   "id": "d7c1dcef-6571-434b-9eff-2ae56a0f708e",
   "metadata": {},
   "outputs": [],
   "source": []
  }
 ],
 "metadata": {
  "kernelspec": {
   "display_name": "Python 3 (ipykernel)",
   "language": "python",
   "name": "python3"
  },
  "language_info": {
   "codemirror_mode": {
    "name": "ipython",
    "version": 3
   },
   "file_extension": ".py",
   "mimetype": "text/x-python",
   "name": "python",
   "nbconvert_exporter": "python",
   "pygments_lexer": "ipython3",
   "version": "3.12.1"
  }
 },
 "nbformat": 4,
 "nbformat_minor": 5
}
