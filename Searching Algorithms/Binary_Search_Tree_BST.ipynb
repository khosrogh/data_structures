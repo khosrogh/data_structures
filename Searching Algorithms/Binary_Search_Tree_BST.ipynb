{
 "cells": [
  {
   "cell_type": "markdown",
   "id": "1994be88-e400-4912-a1bf-2e0db8f3a7a2",
   "metadata": {},
   "source": [
    "# Binary Search Tree (BST)"
   ]
  },
  {
   "cell_type": "markdown",
   "id": "58e7c337-b320-4ef0-aae2-7763fe6486d5",
   "metadata": {},
   "source": [
    "### Inserting a node into a binary search tree\n",
    "\n",
    "\r\n",
    "In the video, you learned what binary search trees (BSTs) are and how to implement their main operations.\r\n",
    "\r\n",
    "In this exercise, you will implement a function to insert a node into a BST.\r\n",
    "\r\n",
    "To test your code, you can use the following tree:"
   ]
  },
  {
   "cell_type": "markdown",
   "id": "10594c6d-e0f6-4681-9cd9-4552ea00ac02",
   "metadata": {},
   "source": [
    "<img src=\"https://assets.datacamp.com/production/repositories/6071/datasets/52988cd481a9813e0e66e7fadc887f1a616269a5/exercise_BST.png\">"
   ]
  },
  {
   "cell_type": "markdown",
   "id": "ce3581e6-2858-436e-9a94-311ad81ce9cb",
   "metadata": {},
   "source": [
    "The nodes contain titles of books, building a BST based on alphabetical order.\r\n",
    "\r\n",
    "This tree has been preloaded in the bst variable:"
   ]
  },
  {
   "cell_type": "markdown",
   "id": "b004a737-8584-4406-a5c9-32f93d018b0b",
   "metadata": {},
   "source": [
    "bst = CreateTree()\n",
    "\n",
    "\n",
    "You can check if the node is correctly inserted with this code:\n",
    "\n",
    "bst.insert(\"Pride and Prejudice\")\n",
    "print(search(bst, \"Pride and Prejudice\"))"
   ]
  },
  {
   "cell_type": "markdown",
   "id": "93b8022a-24ba-43f8-bf67-93fe5454e037",
   "metadata": {},
   "source": [
    "Check if the BST is empty.\r\n",
    "\n",
    "\n",
    "Check if the data to insert is smaller than the current node's data.\n",
    "\n",
    "\r\n",
    "Check if the data to insert is greater than the current node's data."
   ]
  },
  {
   "cell_type": "code",
   "execution_count": 2,
   "id": "c02fd440-0ad3-45df-90d8-2803e511aabb",
   "metadata": {},
   "outputs": [
    {
     "ename": "NameError",
     "evalue": "name 'CreateTree' is not defined",
     "output_type": "error",
     "traceback": [
      "\u001b[1;31m---------------------------------------------------------------------------\u001b[0m",
      "\u001b[1;31mNameError\u001b[0m                                 Traceback (most recent call last)",
      "Cell \u001b[1;32mIn[2], line 29\u001b[0m\n\u001b[0;32m     26\u001b[0m           \u001b[38;5;28;01melse\u001b[39;00m:\n\u001b[0;32m     27\u001b[0m             current_node \u001b[38;5;241m=\u001b[39m current_node\u001b[38;5;241m.\u001b[39mright_child\n\u001b[1;32m---> 29\u001b[0m bst \u001b[38;5;241m=\u001b[39m \u001b[43mCreateTree\u001b[49m()\n\u001b[0;32m     30\u001b[0m bst\u001b[38;5;241m.\u001b[39minsert(\u001b[38;5;124m\"\u001b[39m\u001b[38;5;124mPride and Prejudice\u001b[39m\u001b[38;5;124m\"\u001b[39m)\n\u001b[0;32m     31\u001b[0m \u001b[38;5;28mprint\u001b[39m(search(bst, \u001b[38;5;124m\"\u001b[39m\u001b[38;5;124mPride and Prejudice\u001b[39m\u001b[38;5;124m\"\u001b[39m))\n",
      "\u001b[1;31mNameError\u001b[0m: name 'CreateTree' is not defined"
     ]
    }
   ],
   "source": [
    "class BinarySearchTree:\n",
    "  def __init__(self):\n",
    "    self.root = None\n",
    "\n",
    "  def insert(self, data):\n",
    "    new_node = TreeNode(data)\n",
    "    # Check if the BST is empty\n",
    "    if self.root == None:\n",
    "      self.root = new_node\n",
    "      return\n",
    "    else:\n",
    "      current_node = self.root\n",
    "      while True:\n",
    "        # Check if the data to insert is smaller than the current node's data\n",
    "        if new_node.data < current_node.data:\n",
    "          if current_node.left_child == None:\n",
    "            current_node.left_child = new_node\n",
    "            return \n",
    "          else:\n",
    "            current_node = current_node.left_child\n",
    "        # Check if the data to insert is greater than the current node's data\n",
    "        elif new_node.data > current_node.data:\n",
    "          if current_node.right_child == None:\n",
    "            current_node.right_child = new_node\n",
    "            return\n",
    "          else:\n",
    "            current_node = current_node.right_child\n",
    "\n",
    "bst = CreateTree()\n",
    "bst.insert(\"Pride and Prejudice\")\n",
    "print(search(bst, \"Pride and Prejudice\"))"
   ]
  },
  {
   "cell_type": "markdown",
   "id": "8cafe60b-fd76-4de0-b848-56bb019dffa6",
   "metadata": {},
   "source": [
    "### Finding the minimum node of a BST"
   ]
  },
  {
   "cell_type": "markdown",
   "id": "5e910887-66b7-4769-a793-e69dd87ffe3f",
   "metadata": {},
   "source": [
    "In this exercise, you will practice on a BST to find the minimum node.\r\n",
    "\r\n",
    "To test your code, you can use the following tree:"
   ]
  },
  {
   "cell_type": "markdown",
   "id": "d14e0497-03a6-4060-b401-f02072588154",
   "metadata": {},
   "source": [
    "<img src=\"https://assets.datacamp.com/production/repositories/6071/datasets/52988cd481a9813e0e66e7fadc887f1a616269a5/exercise_BST.png\">"
   ]
  },
  {
   "cell_type": "markdown",
   "id": "06e904ba-5f3e-4111-b907-171049f837cc",
   "metadata": {},
   "source": [
    "It has been preloaded in the bst variable (line 14):\r\n",
    "\r\n",
    "bst = CreateTree\n",
    "\n",
    "()\r\n",
    "You can print the result that returns the find_min() method with this code (line 15):\r\n",
    "\r\n",
    "print(bst.find_min())"
   ]
  },
  {
   "cell_type": "markdown",
   "id": "ee3650fc-c623-4250-919c-7b0dab933c93",
   "metadata": {},
   "source": [
    "Set current_node as the root.\r\n",
    "\n",
    "\n",
    "Iterate over the nodes on the appropriate subtree.\n",
    "\n",
    "\r\n",
    "Update the value for current_node."
   ]
  },
  {
   "cell_type": "code",
   "execution_count": 9,
   "id": "843c7429-65ad-4064-8926-2cbe166a405f",
   "metadata": {},
   "outputs": [],
   "source": [
    "class CreateTree:\n",
    "    def __init__(self, data, left=None, right=None):\n",
    "        self.data = data\n",
    "        self.left_child = left\n",
    "        self.right_child = right"
   ]
  },
  {
   "cell_type": "code",
   "execution_count": 12,
   "id": "4f49b3b5-0573-48aa-a60d-fa343874b9bb",
   "metadata": {},
   "outputs": [
    {
     "ename": "AttributeError",
     "evalue": "'CreateTree' object has no attribute 'find_min'",
     "output_type": "error",
     "traceback": [
      "\u001b[1;31m---------------------------------------------------------------------------\u001b[0m",
      "\u001b[1;31mAttributeError\u001b[0m                            Traceback (most recent call last)",
      "Cell \u001b[1;32mIn[12], line 15\u001b[0m\n\u001b[0;32m     12\u001b[0m     \u001b[38;5;28;01mreturn\u001b[39;00m current_node\u001b[38;5;241m.\u001b[39mdata\n\u001b[0;32m     14\u001b[0m bst \u001b[38;5;241m=\u001b[39m CreateTree(\u001b[38;5;124m'\u001b[39m\u001b[38;5;124mDracula\u001b[39m\u001b[38;5;124m'\u001b[39m)\n\u001b[1;32m---> 15\u001b[0m \u001b[38;5;28mprint\u001b[39m(\u001b[43mbst\u001b[49m\u001b[38;5;241;43m.\u001b[39;49m\u001b[43mfind_min\u001b[49m())\n",
      "\u001b[1;31mAttributeError\u001b[0m: 'CreateTree' object has no attribute 'find_min'"
     ]
    }
   ],
   "source": [
    "class BinarySearchTree:\n",
    "  def __init__(self):\n",
    "    self.root = None\n",
    "\n",
    "  def find_min(self):\n",
    "    # Set current_node as the root\n",
    "    current_node = self.root\n",
    "    # Iterate over the nodes of the appropriate subtree\n",
    "    while current_node.left_child:\n",
    "      # Update current_node\n",
    "      current_node = current_node.left_child\n",
    "    return current_node.data\n",
    "  \n",
    "bst = CreateTree('Dracula')\n",
    "print(bst.find_min())"
   ]
  },
  {
   "cell_type": "code",
   "execution_count": null,
   "id": "8df5893d-682f-469e-bf7a-290574bd77e4",
   "metadata": {},
   "outputs": [],
   "source": []
  }
 ],
 "metadata": {
  "kernelspec": {
   "display_name": "Python 3 (ipykernel)",
   "language": "python",
   "name": "python3"
  },
  "language_info": {
   "codemirror_mode": {
    "name": "ipython",
    "version": 3
   },
   "file_extension": ".py",
   "mimetype": "text/x-python",
   "name": "python",
   "nbconvert_exporter": "python",
   "pygments_lexer": "ipython3",
   "version": "3.12.1"
  }
 },
 "nbformat": 4,
 "nbformat_minor": 5
}
