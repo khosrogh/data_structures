{
 "cells": [
  {
   "cell_type": "markdown",
   "id": "acd4c806-ac2a-4897-8a17-aa3ca6ea660c",
   "metadata": {},
   "source": [
    "# Depth First Search"
   ]
  },
  {
   "cell_type": "markdown",
   "id": "287b1bc1-f377-4479-8e70-d6caf74e28e9",
   "metadata": {},
   "source": [
    "### Printing book titles in alphabetical order"
   ]
  },
  {
   "cell_type": "markdown",
   "id": "7c011fc3-3de7-4bf2-b71d-a58bf39a890f",
   "metadata": {},
   "source": [
    "This video taught you three ways of implementing the depth first search traversal into binary trees: in-order, pre-order, and post-order.\r\n",
    "\r\n",
    "In the following binary search tree, you have stored the titles of some books."
   ]
  },
  {
   "cell_type": "markdown",
   "id": "6ca256d1-f75b-41c2-bc1e-606f12fbd51d",
   "metadata": {},
   "source": [
    "<img src=\"https://assets.datacamp.com/production/repositories/6071/datasets/52988cd481a9813e0e66e7fadc887f1a616269a5/exercise_BST.png\">"
   ]
  },
  {
   "cell_type": "markdown",
   "id": "f3504773-f1f0-4013-97ec-9e8ac7d5a7dc",
   "metadata": {},
   "source": [
    "\n",
    "The tree has been preloaded in the bst variable (line 15):\r\n",
    "\r\n",
    "bst = CreateTree(\n",
    "\n",
    ")\r\n",
    "Can you apply the in-order traversal so that the titles of the books appear alphabetically ordered?"
   ]
  },
  {
   "cell_type": "markdown",
   "id": "d48d7bdf-8110-4fb8-b7f0-b4e35ba29b77",
   "metadata": {},
   "source": [
    "Check if current_node exists.\n",
    "\n",
    "\n",
    "Call the in_order() function recursively on the appropriate half of the tree.\n",
    "\n",
    "\n",
    "Print the value of the current_node.\n",
    "\n",
    "\n",
    "Call the in_order() function recursively on the other half of the tree."
   ]
  },
  {
   "cell_type": "code",
   "execution_count": 7,
   "id": "5771bbe3-08c4-43ed-8cd1-a2a925004005",
   "metadata": {},
   "outputs": [
    {
     "ename": "AttributeError",
     "evalue": "'CreateTree' object has no attribute 'in_order'",
     "output_type": "error",
     "traceback": [
      "\u001b[1;31m---------------------------------------------------------------------------\u001b[0m",
      "\u001b[1;31mAttributeError\u001b[0m                            Traceback (most recent call last)",
      "Cell \u001b[1;32mIn[7], line 16\u001b[0m\n\u001b[0;32m     13\u001b[0m       \u001b[38;5;28mself\u001b[39m\u001b[38;5;241m.\u001b[39min_order(current_node\u001b[38;5;241m.\u001b[39mright_child)\n\u001b[0;32m     15\u001b[0m bst \u001b[38;5;241m=\u001b[39m CreateTree()\n\u001b[1;32m---> 16\u001b[0m \u001b[43mbst\u001b[49m\u001b[38;5;241;43m.\u001b[39;49m\u001b[43min_order\u001b[49m(bst\u001b[38;5;241m.\u001b[39mroot)\n",
      "\u001b[1;31mAttributeError\u001b[0m: 'CreateTree' object has no attribute 'in_order'"
     ]
    }
   ],
   "source": [
    "class BinarySearchTree:\n",
    "  def __init__(self):\n",
    "    self.root = None\n",
    "\n",
    "  def in_order(self, current_node):\n",
    "    # Check if current_node exists\n",
    "    if current_node:\n",
    "      # Call recursively with the appropriate half of the tree\n",
    "      self.in_order(current_node.left_child)\n",
    "      # Print the value of the current_node\n",
    "      print(current_node.data)\n",
    "      # Call recursively with the appropriate half of the tree\n",
    "      self.in_order(current_node.right_child)\n",
    "  \n",
    "bst = CreateTree()\n",
    "bst.in_order(bst.root)"
   ]
  },
  {
   "cell_type": "markdown",
   "id": "e0f4b690-aa34-4742-a7fe-59e5fe6c63fb",
   "metadata": {},
   "source": [
    "### Using pre-order traversal with Polish notation"
   ]
  },
  {
   "cell_type": "markdown",
   "id": "8bc5e78b-2749-41b9-be3b-92611d7981c6",
   "metadata": {},
   "source": [
    "Expression trees are a kind of binary tree that represent arithmetic expressions:\r\n",
    "\r\n"
   ]
  },
  {
   "cell_type": "markdown",
   "id": "94afd2a6-8ecd-41d2-9734-c7f6a9faed33",
   "metadata": {},
   "source": [
    "<img src=\"https://assets.datacamp.com/production/repositories/6071/datasets/2e2e3e819e6f51a57795917844f0fecda8f2698b/infix_notation.png\" >"
   ]
  },
  {
   "cell_type": "markdown",
   "id": "e78bee88-a718-4d8d-b45d-a1252ded9aee",
   "metadata": {},
   "source": [
    "By applying in-order traversal to an expression tree, you can obtain the infix notation. This notation for the given tree will be (10-5)*3.\r\n",
    "\r\n",
    "By applying pre-order traversal to an expression tree, you can obtain the prefix notation, aka Polish notation, where the operator appears before its operands. This notation for the given tree will be *-10 5 3.\r\n",
    "\r\n",
    "By applying post-order traversal to an expression tree, you can obtain the postfix notation, aka reverse Polish notation, where the operator appears after its operands. This notation for the given tree will be 10 5- 3*.\r\n",
    "\r\n",
    "Code the pre-order traversal so that you can obtain the prefix notation of this expression tree."
   ]
  },
  {
   "cell_type": "markdown",
   "id": "70ef439d-7b80-41f4-8786-3cf1ebff8dda",
   "metadata": {},
   "source": [
    "Check if current_node exists.\r\n",
    "\n",
    "\n",
    "Print the value of the current_node.\n",
    "\n",
    "\r\n",
    "Call the pre_order() function recursively on the appropriate halves of the tree."
   ]
  },
  {
   "cell_type": "code",
   "execution_count": 8,
   "id": "0b66e3c4-3526-4dc3-b13b-aae9c02b95ca",
   "metadata": {},
   "outputs": [
    {
     "ename": "NameError",
     "evalue": "name 'CreateExpressionTree' is not defined",
     "output_type": "error",
     "traceback": [
      "\u001b[1;31m---------------------------------------------------------------------------\u001b[0m",
      "\u001b[1;31mNameError\u001b[0m                                 Traceback (most recent call last)",
      "Cell \u001b[1;32mIn[8], line 16\u001b[0m\n\u001b[0;32m     13\u001b[0m       \u001b[38;5;28mself\u001b[39m\u001b[38;5;241m.\u001b[39mpre_order(current_node\u001b[38;5;241m.\u001b[39mleft_child)\n\u001b[0;32m     14\u001b[0m       \u001b[38;5;28mself\u001b[39m\u001b[38;5;241m.\u001b[39mpre_order(current_node\u001b[38;5;241m.\u001b[39mright_child)\n\u001b[1;32m---> 16\u001b[0m et \u001b[38;5;241m=\u001b[39m \u001b[43mCreateExpressionTree\u001b[49m()\n\u001b[0;32m     17\u001b[0m et\u001b[38;5;241m.\u001b[39mpre_order(et\u001b[38;5;241m.\u001b[39mroot)\n",
      "\u001b[1;31mNameError\u001b[0m: name 'CreateExpressionTree' is not defined"
     ]
    }
   ],
   "source": [
    "import queue\n",
    "\n",
    "class ExpressionTree:\n",
    "  def __init__(self):\n",
    "    self.root = None\n",
    "\n",
    "  def pre_order(self, current_node):\n",
    "    # Check if current_node exists\n",
    "    if current_node:\n",
    "      # Print the value of the current_node\n",
    "      print(current_node.data)\n",
    "      # Call pre_order recursively on the appropriate half of the tree\n",
    "      self.pre_order(current_node.left_child)\n",
    "      self.pre_order(current_node.right_child)\n",
    "          \n",
    "et = CreateExpressionTree()\n",
    "et.pre_order(et.root)"
   ]
  },
  {
   "cell_type": "markdown",
   "id": "45918454-5c73-496a-9c96-1f1a9d43e884",
   "metadata": {},
   "source": [
    "### Implementing DFS for graphs"
   ]
  },
  {
   "cell_type": "markdown",
   "id": "1cddefa0-713c-4972-b57a-5f893967cde8",
   "metadata": {},
   "source": [
    "In this exercise, you will implement a depth first search algorithm to traverse a graph.\r\n",
    "\r\n",
    "Recall the steps:\r\n",
    "\r\n",
    "Start at any ver\n",
    "\n",
    "tex\r\n",
    "Add the vertex to the visited vertices \n",
    "\n",
    "list\r\n",
    "For each current node's adjacent v\n",
    "\n",
    "ertex\r\n",
    "If it has been visited -> ign\n",
    "\n",
    "ore it\r\n",
    "If it hasn't been visited -> recursively perf\n",
    "\n",
    "orm DFS\r\n",
    "To help you test your code, the following graph has been loaded using a dictionary."
   ]
  },
  {
   "cell_type": "markdown",
   "id": "89de5f63-4e73-4e2b-8207-f793c810f7f0",
   "metadata": {},
   "source": [
    "<img src=\"https://assets.datacamp.com/production/repositories/6071/datasets/c8935f82d8d43458ba615d5b2554c8c0b0c7fba8/graph_exercises.png\">"
   ]
  },
  {
   "cell_type": "code",
   "execution_count": 9,
   "id": "b31a7e6f-8fad-4229-8080-92162087e005",
   "metadata": {},
   "outputs": [],
   "source": [
    "graph = {\n",
    "  '0' : ['1','2'],\n",
    "  '1' : ['0', '2', '3'],\n",
    "  '2' : ['0', '1', '4'],\n",
    "  '3' : ['1', '4'],\n",
    "  '4' : ['2', '3']\n",
    "}"
   ]
  },
  {
   "cell_type": "markdown",
   "id": "cfa52799-eaa9-4a68-a903-d6df7c5498da",
   "metadata": {},
   "source": [
    "Check if current_vertex hasn't been visited yet.\n",
    "\n",
    "\n",
    "Add current_vertex to visited_vertices.\n",
    "\n",
    "\n",
    "Call dfs() recursively by passing it the appropriate values."
   ]
  },
  {
   "cell_type": "code",
   "execution_count": 10,
   "id": "bbad787f-2768-4851-8a75-7081ed189f65",
   "metadata": {},
   "outputs": [
    {
     "name": "stdout",
     "output_type": "stream",
     "text": [
      "0\n",
      "1\n",
      "2\n",
      "4\n",
      "3\n"
     ]
    }
   ],
   "source": [
    "def dfs(visited_vertices, graph, current_vertex):\n",
    "    # Check if current_vertex hasn't been visited yet\n",
    "    if current_vertex not in visited_vertices:\n",
    "        print(current_vertex)\n",
    "        # Add current_vertex to visited_vertices\n",
    "        visited_vertices.add(current_vertex)\n",
    "        for adjacent_vertex in graph[current_vertex]:\n",
    "            # Call recursively with the appropriate values\n",
    "            dfs(visited_vertices, graph, adjacent_vertex)\n",
    "            \n",
    "dfs(set(), graph, '0')"
   ]
  },
  {
   "cell_type": "markdown",
   "id": "5d7ba14c-1566-460b-b6e5-08c9bf595528",
   "metadata": {},
   "source": [
    "### Finding a graph vertex using BFS"
   ]
  },
  {
   "cell_type": "markdown",
   "id": "dd6b5b9d-b4dd-4cd3-846c-3c8b743418c9",
   "metadata": {},
   "source": [
    "In this exercise, you will modify the BFS algorithm to search for a given vertex within a graph.\r\n",
    "\r\n",
    "To help you test your code, the following graph has been loaded using a dictionary."
   ]
  },
  {
   "cell_type": "markdown",
   "id": "ff2917f6-4a8d-4cd7-950a-e4368c1f88cf",
   "metadata": {},
   "source": [
    "<img src=\"https://assets.datacamp.com/production/repositories/6071/datasets/c49c93917ab85ffe0f4b44a1c92636ef506f5628/finding_graph_vertex_bfs.png\">"
   ]
  },
  {
   "cell_type": "code",
   "execution_count": 11,
   "id": "609b1127-eb41-4cea-ab39-80bd80668032",
   "metadata": {},
   "outputs": [],
   "source": [
    "graph = {\n",
    "  '4' : ['6','7'],\n",
    "  '6' : ['4', '7', '8'],\n",
    "  '7' : ['4', '6', '9'],\n",
    "  '8' : ['6', '9'],\n",
    "  '9' : ['7', '8']\n",
    "}"
   ]
  },
  {
   "cell_type": "markdown",
   "id": "4b9c679a-41c0-4745-babb-ed503b196fda",
   "metadata": {},
   "source": [
    "Check if you found the search value.\n",
    "\n",
    "\n",
    "Return True if you found the search value.\n",
    "\n",
    "\n",
    "Inside the for loop, check if the adjacent vertex has been visited.\n",
    "\n",
    "\n",
    "Return False if you didn't find the search value."
   ]
  },
  {
   "cell_type": "code",
   "execution_count": 12,
   "id": "2422ce63-3ee3-4f53-9ddf-80b0d31e0de2",
   "metadata": {},
   "outputs": [
    {
     "name": "stdout",
     "output_type": "stream",
     "text": [
      "True\n"
     ]
    }
   ],
   "source": [
    "import queue\n",
    "\n",
    "def bfs(graph, initial_vertex, search_value):\n",
    "  visited_vertices = []\n",
    "  bfs_queue = queue.SimpleQueue()\n",
    "  visited_vertices.append(initial_vertex)\n",
    "  bfs_queue.put(initial_vertex)\n",
    "\n",
    "  while not bfs_queue.empty():\n",
    "    current_vertex = bfs_queue.get()\n",
    "    # Check if you found the search value\n",
    "    if current_vertex == search_value:\n",
    "      # Return True if you find the search value\n",
    "      return True    \n",
    "    for adjacent_vertex in graph[current_vertex]:\n",
    "      # Check if the adjacent vertex has been visited\n",
    "      if adjacent_vertex not in visited_vertices:\n",
    "        visited_vertices.append(adjacent_vertex)\n",
    "        bfs_queue.put(adjacent_vertex)\n",
    "  # Return False if you didn't find the search value\n",
    "  return False\n",
    "\n",
    "print(bfs(graph, '4', '8'))"
   ]
  },
  {
   "cell_type": "markdown",
   "id": "16bca31d-70ea-4ef9-a82f-e5d7ba24bbef",
   "metadata": {},
   "source": [
    " As you can see, you can modify the BFS algorithm to find a given vertex by checking if we found the search value!"
   ]
  },
  {
   "cell_type": "code",
   "execution_count": null,
   "id": "0f1dcc71-7e68-4c17-b76d-f717d9f7e2d3",
   "metadata": {},
   "outputs": [],
   "source": []
  }
 ],
 "metadata": {
  "kernelspec": {
   "display_name": "Python 3 (ipykernel)",
   "language": "python",
   "name": "python3"
  },
  "language_info": {
   "codemirror_mode": {
    "name": "ipython",
    "version": 3
   },
   "file_extension": ".py",
   "mimetype": "text/x-python",
   "name": "python",
   "nbconvert_exporter": "python",
   "pygments_lexer": "ipython3",
   "version": "3.12.1"
  }
 },
 "nbformat": 4,
 "nbformat_minor": 5
}
