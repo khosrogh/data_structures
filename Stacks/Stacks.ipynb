{
 "cells": [
  {
   "cell_type": "markdown",
   "id": "0b85c9d6-44a5-472b-8bd2-c3ffce79dfed",
   "metadata": {},
   "source": [
    "## Implementing a Stack with the push method\n",
    "\n",
    "\r\n",
    "In the last video, you learned how to implement stacks in Python. As you saw, stacks follow the LIFO principle; the last element inserted is the first element to come out.\r\n",
    "\r\n",
    "In this exercise, you will follow two steps to implement a stack with the push() operation using a singly linked list. You will also define a new attribute called size to track the number of items in the stack. You will start coding the class to build a Stack(), and after that, you will implement the push() operation.\r\n",
    "\r\n",
    "To program this, you will use the Node() class that has the following cext = None"
   ]
  },
  {
   "cell_type": "code",
   "execution_count": 1,
   "id": "8b0b0b22-6280-4d16-b19f-aa3e2d666738",
   "metadata": {},
   "outputs": [],
   "source": [
    "class Node:\n",
    "  def __init__(self, data):\n",
    "    self.data = data\n",
    "    self.next = None"
   ]
  },
  {
   "cell_type": "markdown",
   "id": "7f279fb4-2b53-4e0b-9c1f-27a20e75441e",
   "metadata": {},
   "source": [
    "Assign no value to the top node and set self.size with zero elements."
   ]
  },
  {
   "cell_type": "code",
   "execution_count": 2,
   "id": "00220a1b-4747-49f5-8374-2e0752a99c61",
   "metadata": {},
   "outputs": [],
   "source": [
    "class Stack:\n",
    "  def __init__(self):\n",
    "    # Initially there won't be any node at the top of the stack\n",
    "    self.top = None\n",
    "    # Initially there will be zero elements in the stack\n",
    "    self.size = 0"
   ]
  },
  {
   "cell_type": "markdown",
   "id": "e065f3c6-c74b-499f-8e1a-89c2ad0017fd",
   "metadata": {},
   "source": [
    "Create a Node() using the data argument.\n",
    "\n",
    "\r\n",
    "Set the created node to the top node.\n",
    "\n",
    "\r\n",
    "Increase by one the size of the stack."
   ]
  },
  {
   "cell_type": "code",
   "execution_count": 3,
   "id": "4d2ad32f-eb85-44b3-b190-7efae1e5ce19",
   "metadata": {},
   "outputs": [],
   "source": [
    "class Stack:\n",
    "  def __init__(self):\n",
    "    self.top = None\n",
    "    self.size = 0\n",
    "    \n",
    "  def push(self, data):\n",
    "    # Create a node with the data\n",
    "    new_node = Node(data)\n",
    "    if self.top:\n",
    "      new_node.next = self.top\n",
    "    # Set the created node to the top node\n",
    "    self.top = new_node\n",
    "    # Increase the size of the stack by one\n",
    "    self.size += 1"
   ]
  },
  {
   "cell_type": "markdown",
   "id": "9e353d63-d512-4f7c-8316-6324eb011a65",
   "metadata": {},
   "source": [
    "You successfully implemented a stack with a singly linked list. Let's continue with the pop() function."
   ]
  },
  {
   "cell_type": "markdown",
   "id": "78e5fe24-b3ee-4c19-a4f4-e33b87a7e648",
   "metadata": {},
   "source": [
    "## Implementing the pop method for a stack\n",
    "\n",
    "\r\n",
    "In this exercise, you will implement the pop() operation for a stack. pop() will be used to remove an element from the top of the stack. Again, we will consider the size attribute to know the number of elements in the stack.\r\n",
    "\r\n",
    "Recall the Node() clat = None"
   ]
  },
  {
   "cell_type": "code",
   "execution_count": 4,
   "id": "758209c3-42d0-45ee-a275-4f149b72af45",
   "metadata": {},
   "outputs": [],
   "source": [
    "class Node:\n",
    "  def __init__(self, data):\n",
    "    self.data = data\n",
    "    self.next = None"
   ]
  },
  {
   "cell_type": "markdown",
   "id": "6715a2cb-d205-45f9-8003-20ec20262644",
   "metadata": {},
   "source": [
    "Check if there is a top element in the stack.\n",
    "\n",
    "\n",
    "Decrement the size of the stack by one if there isn't a top element.\n",
    "\n",
    "\n",
    "Update the new value for the top node."
   ]
  },
  {
   "cell_type": "code",
   "execution_count": 5,
   "id": "71bc73e7-2659-4469-8658-780b2a200f22",
   "metadata": {},
   "outputs": [],
   "source": [
    "class Stack:\n",
    "  def __init__(self):\n",
    "    self.top = None\n",
    "    self.size = 0\n",
    "    \n",
    "  def pop(self):\n",
    "    # Check if there is a top element\n",
    "    if self.top is None:\n",
    "      return None\n",
    "    else:\n",
    "      popped_node = self.top\n",
    "      # Decrement the size of the stack\n",
    "      self.size -= 1\n",
    "      # Update the new value for the top node\n",
    "      self.top = self.top.next\n",
    "      popped_node.next = None\n",
    "      return popped_node.data "
   ]
  },
  {
   "cell_type": "markdown",
   "id": "6f9b968d-822a-4d9b-8d49-6f08fa673aa6",
   "metadata": {},
   "source": [
    "## Using Python's LifoQueue\n",
    "\n",
    "\r\n",
    "In this exercise, you will work with Python's LifoQueue(). You will create a stack called my_book_stack to add books and remove them from it."
   ]
  },
  {
   "cell_type": "markdown",
   "id": "44661491-bd8e-497f-b8b6-06d86a8a7e97",
   "metadata": {},
   "source": [
    "Import the module that contains Python's LifoQueue().\n",
    "\n",
    "\n",
    "Create an infinite LifoQueue().\n",
    "\n",
    "\n",
    "Add an element to the stack.\n",
    "\n",
    "\n",
    "Remove an element from the stack."
   ]
  },
  {
   "cell_type": "code",
   "execution_count": 6,
   "id": "4a936b9a-c577-4360-8578-ae6a5a31eca5",
   "metadata": {},
   "outputs": [
    {
     "data": {
      "text/plain": [
       "'Don Quixote'"
      ]
     },
     "execution_count": 6,
     "metadata": {},
     "output_type": "execute_result"
    }
   ],
   "source": [
    "# Import the module to work with Python's LifoQueue\n",
    "import queue\n",
    "\n",
    "# Create an infinite LifoQueue\n",
    "my_book_stack = queue.LifoQueue(maxsize=0)\n",
    "\n",
    "# Add an element to the stack\n",
    "my_book_stack.put(\"Don Quixote\")\n",
    "\n",
    "# Remove an element from the stack\n",
    "my_book_stack.get()"
   ]
  },
  {
   "cell_type": "markdown",
   "id": "68caa013-8aff-4784-a248-e8c30e416c8f",
   "metadata": {},
   "source": [
    "Congratulations on successfully using a LifoQueue! As you can see, it takes care of the functionality of this data structure so that we don't have to create the structure ourselves."
   ]
  },
  {
   "cell_type": "code",
   "execution_count": null,
   "id": "c23c98ec-e087-4d27-bc06-1449cd7d90d3",
   "metadata": {},
   "outputs": [],
   "source": []
  }
 ],
 "metadata": {
  "kernelspec": {
   "display_name": "Python 3 (ipykernel)",
   "language": "python",
   "name": "python3"
  },
  "language_info": {
   "codemirror_mode": {
    "name": "ipython",
    "version": 3
   },
   "file_extension": ".py",
   "mimetype": "text/x-python",
   "name": "python",
   "nbconvert_exporter": "python",
   "pygments_lexer": "ipython3",
   "version": "3.12.1"
  }
 },
 "nbformat": 4,
 "nbformat_minor": 5
}
