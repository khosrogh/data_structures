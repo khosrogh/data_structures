{
 "cells": [
  {
   "cell_type": "markdown",
   "id": "a3ea3e2a-8d06-4210-8d71-cdb6cba7d852",
   "metadata": {},
   "source": [
    "# Queues "
   ]
  },
  {
   "cell_type": "markdown",
   "id": "542151d8-85e1-4b17-9aea-1bc42b36a7ae",
   "metadata": {},
   "source": [
    "Implementing a queue for printer tasks\n",
    "\n",
    "\r\n",
    "In the last video, you learned that queues can have multiple applications, such as managing the tasks for a printer.\r\n",
    "\r\n",
    "In this exercise, you will implement a class called PrinterTasks(), which will represent a simplified queue for a printer. To do this, you will be provided with the Queue() class that includes the following methods:\r\n",
    "\r\n",
    "enqueue(data): adds an element to the \n",
    "\n",
    "queue\r\n",
    "dequeue(): removes an element from the\n",
    "\n",
    " queue\r\n",
    "has_elements(): checks if the queue has elements. This is th\n",
    "s() class."
   ]
  },
  {
   "cell_type": "code",
   "execution_count": 2,
   "id": "9249cc1c-4bb0-4376-a192-c57e8d513bc8",
   "metadata": {},
   "outputs": [],
   "source": [
    "def has_elements(self):\n",
    "    return self.head != None"
   ]
  },
  {
   "cell_type": "markdown",
   "id": "a83fb89d-3425-423e-9374-ee6c0aac5c3c",
   "metadata": {},
   "source": [
    "You will start coding the PrinterTasks() class with its add_document() and print_documents() methods. After that, you will simulate the execution of a program that uses the PrinterTasks() class."
   ]
  },
  {
   "cell_type": "markdown",
   "id": "e0342ca4-7104-4300-be73-8f5c63f4ebe8",
   "metadata": {},
   "source": [
    "Complete the add_document() function to add a document to the queue.\n",
    "\n",
    "\r\n",
    "Complete the print_documents() function to iterate over the queue while it has elements, and remove each document in the queue."
   ]
  },
  {
   "cell_type": "code",
   "execution_count": 1,
   "id": "96ba04bc-75a4-4fdc-bb1f-cf17c1381b16",
   "metadata": {},
   "outputs": [],
   "source": [
    "class PrinterTasks:\n",
    "  def __init__(self):\n",
    "    self.queue = Queue()\n",
    "      \n",
    "  def add_document(self, document):\n",
    "    # Add the document to the queue\n",
    "    self.queue.enqueue(document)\n",
    "      \n",
    "  def print_documents(self):\n",
    "    # Iterate over the queue while it has elements\n",
    "    while self.queue.has_elements():\n",
    "      # Remove the document from the queue\n",
    "      print(\"Printing\", self.queue.dequeue())"
   ]
  },
  {
   "cell_type": "markdown",
   "id": "670d050a-f5bf-4ab1-9eb1-0dbc159dfc5e",
   "metadata": {},
   "source": [
    "Add some documents to print.\r\n",
    "\n",
    "\n",
    "Print all the documents in the queue."
   ]
  },
  {
   "cell_type": "code",
   "execution_count": 3,
   "id": "ba48873e-8deb-4a0a-b5a0-3f25c4b1c158",
   "metadata": {},
   "outputs": [
    {
     "ename": "NameError",
     "evalue": "name 'Queue' is not defined",
     "output_type": "error",
     "traceback": [
      "\u001b[1;31m---------------------------------------------------------------------------\u001b[0m",
      "\u001b[1;31mNameError\u001b[0m                                 Traceback (most recent call last)",
      "Cell \u001b[1;32mIn[3], line 1\u001b[0m\n\u001b[1;32m----> 1\u001b[0m printer_tasks \u001b[38;5;241m=\u001b[39m \u001b[43mPrinterTasks\u001b[49m\u001b[43m(\u001b[49m\u001b[43m)\u001b[49m\n\u001b[0;32m      2\u001b[0m \u001b[38;5;66;03m# Add some documents to print\u001b[39;00m\n\u001b[0;32m      3\u001b[0m printer_tasks\u001b[38;5;241m.\u001b[39madd_document(\u001b[38;5;124m\"\u001b[39m\u001b[38;5;124mDocument 1\u001b[39m\u001b[38;5;124m\"\u001b[39m)\n",
      "Cell \u001b[1;32mIn[1], line 3\u001b[0m, in \u001b[0;36mPrinterTasks.__init__\u001b[1;34m(self)\u001b[0m\n\u001b[0;32m      2\u001b[0m \u001b[38;5;28;01mdef\u001b[39;00m \u001b[38;5;21m__init__\u001b[39m(\u001b[38;5;28mself\u001b[39m):\n\u001b[1;32m----> 3\u001b[0m   \u001b[38;5;28mself\u001b[39m\u001b[38;5;241m.\u001b[39mqueue \u001b[38;5;241m=\u001b[39m \u001b[43mQueue\u001b[49m()\n",
      "\u001b[1;31mNameError\u001b[0m: name 'Queue' is not defined"
     ]
    }
   ],
   "source": [
    "printer_tasks = PrinterTasks()\n",
    "# Add some documents to print\n",
    "printer_tasks.add_document(\"Document 1\")\n",
    "printer_tasks.add_document(\"Document 2\")\n",
    "printer_tasks.add_document(\"Document 3\")\n",
    "# Print all the documents in the queue\n",
    "printer_tasks.print_documents()"
   ]
  },
  {
   "cell_type": "code",
   "execution_count": 4,
   "id": "97f9c080-50c0-4cfe-bfcc-2681baee2071",
   "metadata": {},
   "outputs": [],
   "source": [
    "class PrinterTasks:\n",
    "  def __init__(self):\n",
    "    self.queue = Queue()\n",
    "      \n",
    "  def add_document(self, document):\n",
    "    # Add the document to the queue\n",
    "    self.queue.enqueue(document)\n",
    "      \n",
    "  def print_documents(self):\n",
    "    # Iterate over the queue while it has elements\n",
    "    while self.queue.has_elements():\n",
    "      # Remove the document from the queue\n",
    "      print(\"Printing\", self.queue.dequeue())\n",
    "        \n",
    "  def enqueue(self,data):\n",
    "    new_node = Node(data)\n",
    "    if self.head == None:\n",
    "      self.head = new_node\n",
    "      self.tail = new_node\n",
    "    else:\n",
    "      self.tail.next = new_node\n",
    "      self.tail = new_node \n",
    "  def dequeue(self):\n",
    "    if self.head:\n",
    "      current_node = self.head\n",
    "      self.head = current_node.next\n",
    "      current_node.next = None\n",
    "\n",
    "      if self.head == None:\n",
    "        self.tail = None"
   ]
  },
  {
   "cell_type": "markdown",
   "id": "cd0dda68-0498-4b43-96c8-b701471ea6ec",
   "metadata": {},
   "source": [
    "## Using Python's SimpleQueue\n",
    "In this exercise, you will work with Python's SimpleQueue(). You will create a queue called my_orders_queue to add the orders of a restaurant and remove them from it when required."
   ]
  },
  {
   "cell_type": "markdown",
   "id": "2f870b47-a3c6-4293-ac1f-6bce30072908",
   "metadata": {},
   "source": [
    "Create the queue.\r\n",
    "\n",
    "\n",
    "Add an element to the queue.\n",
    "\n",
    "\r\n",
    "Remove an element from the queue."
   ]
  },
  {
   "cell_type": "code",
   "execution_count": 6,
   "id": "aac258f3-70d5-4185-9bba-0c84995e6d24",
   "metadata": {},
   "outputs": [
    {
     "data": {
      "text/plain": [
       "'samosas'"
      ]
     },
     "execution_count": 6,
     "metadata": {},
     "output_type": "execute_result"
    }
   ],
   "source": [
    "import queue\n",
    "\n",
    "# Create the queue\n",
    "my_orders_queue = queue.SimpleQueue()\n",
    "\n",
    "# Add an element to the queue\n",
    "my_orders_queue.put(\"samosas\")\n",
    "\n",
    "# Remove an element from the queue\n",
    "my_orders_queue.get()"
   ]
  },
  {
   "cell_type": "markdown",
   "id": "d463b470-dfba-4681-9f4a-08f05f0ec924",
   "metadata": {},
   "source": [
    "As you can see, SimpleQueue() takes care of the functionality of this data structure so that we don't have to create the structure ourselves!"
   ]
  },
  {
   "cell_type": "code",
   "execution_count": null,
   "id": "e9d78e8a-e1c7-458c-806c-c77e3408ad91",
   "metadata": {},
   "outputs": [],
   "source": []
  }
 ],
 "metadata": {
  "kernelspec": {
   "display_name": "Python 3 (ipykernel)",
   "language": "python",
   "name": "python3"
  },
  "language_info": {
   "codemirror_mode": {
    "name": "ipython",
    "version": 3
   },
   "file_extension": ".py",
   "mimetype": "text/x-python",
   "name": "python",
   "nbconvert_exporter": "python",
   "pygments_lexer": "ipython3",
   "version": "3.12.1"
  }
 },
 "nbformat": 4,
 "nbformat_minor": 5
}
