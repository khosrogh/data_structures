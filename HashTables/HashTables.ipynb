{
 "cells": [
  {
   "cell_type": "markdown",
   "id": "6e8edde6-fedc-441a-8584-22a6e4f73079",
   "metadata": {},
   "source": [
    "# Hash Tables"
   ]
  },
  {
   "cell_type": "markdown",
   "id": "2358004a-5c8a-4083-97f3-746cda40bd9c",
   "metadata": {},
   "source": [
    "## Correcting bugs in a dictionary\r\n",
    "\n",
    "\n",
    "You have been given a program that is supposed to iterate over the dishes of a menu, printing the name and its value.\r\n",
    "\r\n",
    "The dishes of the menu are stored in the following dictionary:"
   ]
  },
  {
   "cell_type": "code",
   "execution_count": 1,
   "id": "b578a090-7ed3-490e-9511-448e5564c7c8",
   "metadata": {},
   "outputs": [],
   "source": [
    "my_menu = {\n",
    "  'lasagna': 14.75,\n",
    "  'moussaka': 21.15,\n",
    "  'sushi': 16.05,\n",
    "  'paella': 21,\n",
    "  'samosas': 14\n",
    "}"
   ]
  },
  {
   "cell_type": "markdown",
   "id": "a7b25dc5-b69f-4a9b-a4ad-5b4975ef23ba",
   "metadata": {},
   "source": [
    "\n",
    "testing the program, you realize that it is not correct."
   ]
  },
  {
   "cell_type": "markdown",
   "id": "9b37f950-d1fb-4db5-a4a7-27fd07a7a421",
   "metadata": {},
   "source": [
    "Correct the mistake in the for loop.\r\n",
    "\n",
    "\n",
    "Correct the mistake in the print() function."
   ]
  },
  {
   "cell_type": "code",
   "execution_count": 2,
   "id": "bf7b69a3-a83d-458a-a31b-6502d258276e",
   "metadata": {},
   "outputs": [
    {
     "name": "stdout",
     "output_type": "stream",
     "text": [
      "The price of the lasagna is 14.75.\n",
      "The price of the moussaka is 21.15.\n",
      "The price of the sushi is 16.05.\n",
      "The price of the paella is 21.\n",
      "The price of the samosas is 14.\n"
     ]
    }
   ],
   "source": [
    "# Correct the mistake\n",
    "for key, value in my_menu.items():\n",
    "  # Correct the mistake\n",
    "  print(f\"The price of the {key} is {value}.\")"
   ]
  },
  {
   "cell_type": "markdown",
   "id": "9207c0eb-9192-4e22-8d57-530c5cf89524",
   "metadata": {},
   "source": [
    "## Iterating over a nested dictionary\n",
    "\n",
    "\r\n",
    "You are writing a program that iterates over the following nested dictionary to determine if the dishes need to be served cold or hot."
   ]
  },
  {
   "cell_type": "code",
   "execution_count": 3,
   "id": "1e8c7952-093e-40cf-a1a1-96ae2d2ca804",
   "metadata": {},
   "outputs": [],
   "source": [
    "my_menu = {\n",
    "  'sushi' : {\n",
    "    'price' : 19.25,\n",
    "    'best_served' : 'cold'\n",
    "  },\n",
    "  'paella' : {\n",
    "    'price' : 15,\n",
    "    'best_served' : 'hot'\n",
    "  },\n",
    "  'samosa' : {\n",
    "    'price' : 14,\n",
    "    'best_served' : 'hot'\n",
    "  },\n",
    "  'gazpacho' : {\n",
    "    'price' : 8,\n",
    "    'best_served' : 'cold'\n",
    "  }\n",
    "}"
   ]
  },
  {
   "cell_type": "markdown",
   "id": "c4fa226c-b9dd-432a-baa1-51d2dfebd6f2",
   "metadata": {},
   "source": [
    "Can you complete the program so that it outputs the following?\r\n",
    "\r\n"
   ]
  },
  {
   "cell_type": "markdown",
   "id": "2434eda3-6bf1-4204-9d19-cac1a240850a",
   "metadata": {},
   "source": [
    "Sushi is best served cold.\n",
    "\n",
    "\r\n",
    "Paella is best served hot\n",
    "\n",
    ".\r\n",
    "Samosa is best served ho\n",
    "\n",
    "t.\r\n",
    "Gazpacho is best served cold."
   ]
  },
  {
   "cell_type": "code",
   "execution_count": 4,
   "id": "bfbbaa97-e3d6-40fe-8df1-bf4bf69a878f",
   "metadata": {},
   "outputs": [
    {
     "name": "stdout",
     "output_type": "stream",
     "text": [
      "Sushi is best served cold.\n",
      "Paella is best served hot.\n",
      "Samosa is best served hot.\n",
      "Gazpacho is best served cold.\n"
     ]
    }
   ],
   "source": [
    "# Iterate the elements of the menu\n",
    "for dish, values in my_menu.items():\n",
    "  # Print whether the dish must be served cold or hot\n",
    "  print(f\"{dish.title()} is best served {values['best_served']}.\")"
   ]
  },
  {
   "cell_type": "code",
   "execution_count": null,
   "id": "ff0c83a2-1f26-4ce9-ae34-c670e408bf2f",
   "metadata": {},
   "outputs": [],
   "source": []
  }
 ],
 "metadata": {
  "kernelspec": {
   "display_name": "Python 3 (ipykernel)",
   "language": "python",
   "name": "python3"
  },
  "language_info": {
   "codemirror_mode": {
    "name": "ipython",
    "version": 3
   },
   "file_extension": ".py",
   "mimetype": "text/x-python",
   "name": "python",
   "nbconvert_exporter": "python",
   "pygments_lexer": "ipython3",
   "version": "3.12.1"
  }
 },
 "nbformat": 4,
 "nbformat_minor": 5
}
